{
  "cells": [
    {
      "cell_type": "markdown",
      "id": "950ae267",
      "metadata": {
        "id": "950ae267"
      },
      "source": [
        "<div style=\"text-align: right\">INFO 6105 Data Sci Engineering Methods and Tools, HW</div>\n",
        "<div style=\"text-align: right\">Dino Konstantopoulos, 27 September 2024</div>"
      ]
    },
    {
      "cell_type": "markdown",
      "id": "lFbMB-A0NJzp",
      "metadata": {
        "id": "lFbMB-A0NJzp"
      },
      "source": [
        "<center><h1>F1</h1></center>\n",
        "<h4>Deshna Ashok Shah</h4>\n",
        "<br/>\n",
        "Date : 10/04/24\n"
      ]
    },
    {
      "cell_type": "markdown",
      "id": "750655f2",
      "metadata": {
        "id": "750655f2"
      },
      "source": [
        "# F1\n",
        "\n",
        "[This](https://www.formula1.com/en/racing/2024.html) is the schedule for the remaining Formula 1 races for 2024:\n",
        "\n",
        "<br />\n",
        "<center>\n",
        "    <img src=\"ipynb.images/f1-2024.png\" width=1000 />\n",
        "</center>\n",
        "\n",
        "As of September 27, 2024, Max Verstappen (my hero) is the current leader of the 2024 Formula One World Championship Drivers' Championship.\n",
        "\n",
        "<br />\n",
        "<center>\n",
        "    <img src=\"ipynb.images/max-verstappen-red-bull-racing.jpg\" width=400 />\n",
        "</center>\n",
        "\n",
        "The next race is right here in the USA, on 18-20 October! Are you going to watch? The week after, the F1 cars move to our neighbor, Mexico.\n",
        "\n",
        "Then, Brazil, Qatar, Las Vegas, and the season finishes at Abu Dhabi, December 6 - 8.\n",
        "\n",
        "**Question 1** (20 points) [Max Verstappen](https://www.formula1.com/en/drivers/max-verstappen.html) rocks! But is he going to win it all again in 2024? The 2024 up to date driver standings are given [here](https://www.formula1.com/en/results.html/2024/drivers.html).\n",
        "\n",
        "Given these standings (*do not use team standings given on the same Web site, always use driver standings*), what is the Probability Distribution for every F1 driver to win the US Grand Prix? What is the Probability Distribution for each F1 driver to win *both* the US and Mexican Grand Prix? What is the probability for Red Bull Honda to win both races? What is the probability for Red Bull Honda to win at least one race? Note that Red Bull Honda, and each other racing team, has two drivers per racem but sometimes drivers are replaced by reserve drivers, and so when you consider teams, you may have to consider more than 2 drivers. To simplify, assume the same Driver standings for the US and Mexico Grand Prix.\n",
        "\n",
        "**Question 2** (30 points) If Red Bull Honda wins the US Grand Prix race, what is the probability that Red Bull Honda wins the Mexican Grand Prix? If Red Bull Honda wins at least one of these two races, what is the probability Red Bull Honda wins both races? How about McLaren-Mercedes, Ferrari, and Alpine-Renault? Assume the same Driver standings for the US and Mexico Grand Prix.\n",
        "\n",
        "**Question 3** (30 points) McLaren-Mercedes wins one of these two races on a sunny day. What is the probability McLaren-Mercedes wins both races, assuming races can be held on either rainy, sunny, cloudy, snowy or foggy days, that these are the only possible weather conditions and that there is an equal probability for each one? Assume the same Driver standings for the US and Mexico Grand Prix.\n",
        "\n",
        "**Question 4** (20 points) Red Bull Honda wins one of these two races on a rainy day. What is the probability Red Bull Honda wins both races, assuming races can be held on either rainy, sunny, cloudy, snowy or foggy days, and that in Austin, Texas it's cloudy twice as much as it is sunny, sunny twice as much as it is rainy and four times as much as it is foggy, and foggy just as often as it is snows. While in Mexico City it's sunny twice as much as it is cloudy, cloudy just as much as it rains, and it never fogs or snows. Assume the same Driver standings for the US and Mexico Grand Prix.\n",
        "\n",
        "**Question 5** (10 bonus points) What is the probability Max Verstappen wins the 2024 season? Do not assume the same standings anymore following each upcoming race: In Formula 1, the winner receives 25 points, the second-place finisher 18 points, with 15, 12, 10, 8, 6, 4, 2 and 1 points for positions 3 through 10, respectively.\n",
        "\n",
        "You need to provide *proof* for your answers by using code, in the form of a function. `I think it's one in a million because Red Bull Honda's tires suck in rain`, or `fer sure Max wins because he rocks` are not good answers. Use our `p` probability function we worked on in class. Code the correct function predicates to pass to it."
      ]
    },
    {
      "cell_type": "markdown",
      "id": "6498c9e4",
      "metadata": {
        "id": "6498c9e4"
      },
      "source": [
        "**Hint**: Use `USGP` to denote the Probability Distribution of F1 drivers winning the US GP. Write driver initials as keys and driver wins as values in a dictionary that you pass to our class `ProbDist`.."
      ]
    },
    {
      "cell_type": "markdown",
      "id": "lui0GO1g9alY",
      "metadata": {
        "id": "lui0GO1g9alY"
      },
      "source": [
        "hint for F1:\n",
        "1. “why weather make a difference?”\n",
        "Of course weather conditions make a difference! They make a difference with tires, visibility, and a number of other factors! Now what you need to do is to build the universe of all possible outcomes, just as we did in class.\n",
        "2. Read professor’s notebook again, maybe you can have some thoughts about F1 questions\n",
        "3. For questions 1-4, assume drivers have same probability to win in two races.\n",
        "4. For questions 3-4, you can make assumption about weather probability if it is not specified in questions.\n",
        "5. only winning points for each drivers data need to be got from website, other data is all included in questions.\n",
        "6. if teams have different names, they are different teams\n",
        "7. question5 is a bonus, is a little difficult\n",
        "8. if you don’t know how to deal with weather, read this sentence three times.\n",
        "what you need to do is to build the universe of all possible outcomes\n",
        "what you need to do is to build the universe of all possible outcomes\n",
        "what you need to do is to build the universe of all possible outcomes\n",
        "finding out how to use weather in the solutions is part of your homework.\n",
        "Good luck!"
      ]
    },
    {
      "cell_type": "code",
      "execution_count": 1,
      "id": "df8da12b",
      "metadata": {
        "id": "df8da12b"
      },
      "outputs": [],
      "source": [
        "class ProbDist(dict):\n",
        "    \"\"\"A Probability Distribution; an {outcome: probability} mapping.\"\"\"\n",
        "    def __init__(self, mapping=(), **kwargs):\n",
        "        self.update(mapping, **kwargs)\n",
        "        # Make probabilities sum to 1.0; assert no negative probabilities\n",
        "        total = sum(self.values())\n",
        "        for outcome in self:\n",
        "            self[outcome] = self[outcome] / total\n",
        "            assert self[outcome] >= 0"
      ]
    },
    {
      "cell_type": "code",
      "execution_count": 2,
      "id": "e091cdb8",
      "metadata": {
        "colab": {
          "base_uri": "https://localhost:8080/"
        },
        "id": "e091cdb8",
        "outputId": "a46eaac3-b46a-428b-fa77-9fd94ed26548"
      },
      "outputs": [
        {
          "data": {
            "text/plain": [
              "{'MV': 0.17053065430190623,\n",
              " 'LN': 0.1437403400309119,\n",
              " 'CL': 0.12622359608449252,\n",
              " 'OP': 0.12210200927357033,\n",
              " 'CS': 0.09788768675940238,\n",
              " 'LH': 0.08964451313755796,\n",
              " 'GR': 0.07985574446161772,\n",
              " 'SP': 0.07418856259659969,\n",
              " 'FA': 0.03194229778464709,\n",
              " 'NH': 0.012364760432766615,\n",
              " 'LS': 0.012364760432766615,\n",
              " 'YT': 0.011334363730036065,\n",
              " 'AA': 0.0061823802163833074,\n",
              " 'DR': 0.0061823802163833074,\n",
              " 'PG': 0.004121586810922205,\n",
              " 'OB': 0.0036063884595569293,\n",
              " 'KM': 0.0030911901081916537,\n",
              " 'EO': 0.002575991756826378,\n",
              " 'FC': 0.0020607934054611026,\n",
              " 'ZG': 0.0,\n",
              " 'VB': 0.0,\n",
              " 'LT': 0.0}"
            ]
          },
          "execution_count": 2,
          "metadata": {},
          "output_type": "execute_result"
        }
      ],
      "source": [
        "USGP = ProbDist(\n",
        "    MV = 331,\n",
        "    LN = 279,\n",
        "    CL = 245,\n",
        "    OP = 237,\n",
        "    CS = 190,\n",
        "    LH = 174,\n",
        "    GR = 155,\n",
        "    SP = 144,\n",
        "    FA = 62,\n",
        "    NH = 24,\n",
        "    LS = 24,\n",
        "    YT = 22,\n",
        "    AA = 12,\n",
        "    DR = 12,\n",
        "    PG = 8,\n",
        "    OB = 7,\n",
        "    KM = 6,\n",
        "    EO = 5,\n",
        "    FC = 4,\n",
        "    ZG = 0,\n",
        "    VB = 0,\n",
        "    LT =0,\n",
        ")\n",
        "USGP"
      ]
    },
    {
      "cell_type": "markdown",
      "id": "TlyLb4GwPF2L",
      "metadata": {
        "id": "TlyLb4GwPF2L"
      },
      "source": [
        "Define the function to calculate probability"
      ]
    },
    {
      "cell_type": "code",
      "execution_count": 3,
      "id": "YG-0yXtwPFKV",
      "metadata": {
        "id": "YG-0yXtwPFKV"
      },
      "outputs": [],
      "source": [
        "from fractions import Fraction\n",
        "def p(event, space):\n",
        "    \"\"\"The probability of an event, given a sample space of equiprobable outcomes.\n",
        "    event can be either a set of outcomes, or a predicate (true for outcomes in the event).\"\"\"\n",
        "    if is_predicate(event):\n",
        "        event = such_that(event, space)\n",
        "    if isinstance(space, ProbDist):\n",
        "        # if space is a dictionary of distinct probabilities, where each item does not count as the same amount\n",
        "        return sum(space[o] for o in space if o in event)\n",
        "    else:\n",
        "        # space is not a dictionary but a collection, let's fall back to our original division\n",
        "        return float(Fraction(len(event & space), len(space)))\n",
        "\n",
        "is_predicate = callable\n",
        "\n",
        "def such_that(predicate, collection):\n",
        "    \"\"\"The subset of elements in the collection for which the predicate is true.\"\"\"\n",
        "    return {e for e in collection if predicate(e)}\n"
      ]
    },
    {
      "cell_type": "markdown",
      "id": "hjW9NfKq9yfP",
      "metadata": {
        "id": "hjW9NfKq9yfP"
      },
      "source": [
        "\n",
        "**Question 1A** What is the Probability Distribution for every F1 driver to win the US Grand Prix?"
      ]
    },
    {
      "cell_type": "code",
      "execution_count": 4,
      "id": "YmA1Rwgmdyl-",
      "metadata": {
        "colab": {
          "base_uri": "https://localhost:8080/"
        },
        "id": "YmA1Rwgmdyl-",
        "outputId": "08da4862-a31e-49bf-bc55-9449e8bda1ac"
      },
      "outputs": [
        {
          "name": "stdout",
          "output_type": "stream",
          "text": [
            "MV: 0.17053065430190623\n",
            "LN: 0.1437403400309119\n",
            "CL: 0.12622359608449252\n",
            "OP: 0.12210200927357033\n",
            "CS: 0.09788768675940238\n",
            "LH: 0.08964451313755796\n",
            "GR: 0.07985574446161772\n",
            "SP: 0.07418856259659969\n",
            "FA: 0.03194229778464709\n",
            "NH: 0.012364760432766615\n",
            "LS: 0.012364760432766615\n",
            "YT: 0.011334363730036065\n",
            "AA: 0.0061823802163833074\n",
            "DR: 0.0061823802163833074\n",
            "PG: 0.004121586810922205\n",
            "OB: 0.0036063884595569293\n",
            "KM: 0.0030911901081916537\n",
            "EO: 0.002575991756826378\n",
            "FC: 0.0020607934054611026\n",
            "ZG: 0.0\n",
            "VB: 0.0\n",
            "LT: 0.0\n"
          ]
        }
      ],
      "source": [
        "# The Probability Distribution for each F1 driver to win the US Grand Prix\n",
        "for driver in USGP:\n",
        "    print(f\"{driver}: {p(driver,USGP)}\")"
      ]
    },
    {
      "cell_type": "markdown",
      "id": "VaRVNg6WwxR2",
      "metadata": {
        "id": "VaRVNg6WwxR2"
      },
      "source": [
        "\n",
        "**Question 1B** What is the Probability Distribution for each F1 driver to win both the US and Mexican Grand Prix?"
      ]
    },
    {
      "cell_type": "code",
      "execution_count": 5,
      "id": "lR8awWmXhRia",
      "metadata": {
        "colab": {
          "base_uri": "https://localhost:8080/"
        },
        "id": "lR8awWmXhRia",
        "outputId": "befff369-ee14-4e2b-fc2f-344f3c5de4b8"
      },
      "outputs": [
        {
          "name": "stdout",
          "output_type": "stream",
          "text": [
            "Probability Distribution for winning both races:\n"
          ]
        },
        {
          "data": {
            "text/plain": [
              "{'MV': 0.26043105272040523,\n",
              " 'LN': 0.18503129375242164,\n",
              " 'CL': 0.1426819209348429,\n",
              " 'OP': 0.1335160485962381,\n",
              " 'CS': 0.08581120109534078,\n",
              " 'LH': 0.07196731092417,\n",
              " 'GR': 0.057108423997660994,\n",
              " 'SP': 0.04929033423581678,\n",
              " 'FA': 0.00913734783962576,\n",
              " 'NH': 0.0013691759509949107,\n",
              " 'LS': 0.0013691759509949107,\n",
              " 'YT': 0.0011504881254887794,\n",
              " 'AA': 0.00034229398774872767,\n",
              " 'DR': 0.00034229398774872767,\n",
              " 'PG': 0.00015213066122165677,\n",
              " 'OB': 0.00011647503749783094,\n",
              " 'KM': 8.557349693718192e-05,\n",
              " 'EO': 5.942603953970967e-05,\n",
              " 'FC': 3.803266530541419e-05,\n",
              " 'ZG': 0.0,\n",
              " 'VB': 0.0,\n",
              " 'LT': 0.0}"
            ]
          },
          "execution_count": 5,
          "metadata": {},
          "output_type": "execute_result"
        }
      ],
      "source": [
        "win_both_races = {}\n",
        "for driver in USGP:\n",
        "    win_both_races[driver] = p(driver,USGP)**2 #Assuming the same Driver standings for the US and Mexico Grand Prix.\n",
        "\n",
        "# The Probability Distribution for each F1 driver to win both the US and Mexican Grand Prix\n",
        "print(\"Probability Distribution for winning both races:\")\n",
        "ProbDist(win_both_races)"
      ]
    },
    {
      "cell_type": "markdown",
      "id": "ovw9EBG6w67M",
      "metadata": {
        "id": "ovw9EBG6w67M"
      },
      "source": [
        "\n",
        "**Question 1C** What is the probability for Red Bull Honda to win both races?"
      ]
    },
    {
      "cell_type": "code",
      "execution_count": 6,
      "id": "eWTHqyCrh6W_",
      "metadata": {
        "colab": {
          "base_uri": "https://localhost:8080/"
        },
        "id": "eWTHqyCrh6W_",
        "outputId": "5723194b-66ac-47de-bbf6-6024c636c5c0"
      },
      "outputs": [
        {
          "data": {
            "text/plain": [
              "0.059887495119417974"
            ]
          },
          "execution_count": 6,
          "metadata": {},
          "output_type": "execute_result"
        }
      ],
      "source": [
        "# The probability for Red Bull Honda to win both races\n",
        "# Assuming the same Driver standings for the US and Mexico Grand Prix.\n",
        "redbull_wins_usgp = p('MV',USGP) + p('SP',USGP)\n",
        "redbull_wins_both = redbull_wins_usgp**2\n",
        "redbull_wins_both"
      ]
    },
    {
      "cell_type": "markdown",
      "id": "pZU9BJ8vxDdG",
      "metadata": {
        "id": "pZU9BJ8vxDdG"
      },
      "source": [
        "\n",
        "**Question 1D** What is the probability for Red Bull Honda to win at least one race?"
      ]
    },
    {
      "cell_type": "markdown",
      "id": "FoigiTWWxhWI",
      "metadata": {
        "id": "FoigiTWWxhWI"
      },
      "source": [
        "For each race:\n",
        "P(No Red Bull win) = 1 - (P(MV) + P(SP))\n",
        "\n",
        "For both races:\n",
        "P(No wins in either) = P(No win race 1) × P(No win race 2)\n",
        "\n",
        "Then:\n",
        "P(At least one win) = 1 - P(No wins in either)"
      ]
    },
    {
      "cell_type": "code",
      "execution_count": 7,
      "id": "Bnfl48ahj7nc",
      "metadata": {
        "colab": {
          "base_uri": "https://localhost:8080/"
        },
        "id": "Bnfl48ahj7nc",
        "outputId": "2fdc3848-f727-4f0b-ce4b-fcd9c7015fd0"
      },
      "outputs": [
        {
          "data": {
            "text/plain": [
              "0.42955093867759386"
            ]
          },
          "execution_count": 7,
          "metadata": {},
          "output_type": "execute_result"
        }
      ],
      "source": [
        "# The probability for Red Bull Honda to win at least one race\n",
        "\n",
        "# Remove the probability of Red Bull Honda not winning any Grand Prix from the sample space\n",
        "redbull_loses_usgp = 1 - redbull_wins_usgp\n",
        "redbull_loses_both = redbull_loses_usgp**2 #Assuming same standings for US and Mexican GP\n",
        "\n",
        "redbull_wins_atleast_one = 1 - redbull_loses_both\n",
        "redbull_wins_atleast_one"
      ]
    },
    {
      "cell_type": "markdown",
      "id": "fFDB80Wm9yw_",
      "metadata": {
        "id": "fFDB80Wm9yw_"
      },
      "source": [
        "**Question 2A** If Red Bull Honda wins the US Grand Prix race, what is the probability that Red Bull Honda wins the Mexican Grand Prix?\n"
      ]
    },
    {
      "cell_type": "code",
      "execution_count": 8,
      "id": "7OkBRgZnQ__Y",
      "metadata": {
        "colab": {
          "base_uri": "https://localhost:8080/"
        },
        "id": "7OkBRgZnQ__Y",
        "outputId": "816d6f08-ecb3-4506-dfb8-0a476d845b79"
      },
      "outputs": [
        {
          "data": {
            "text/plain": [
              "0.2447192168985059"
            ]
          },
          "execution_count": 8,
          "metadata": {},
          "output_type": "execute_result"
        }
      ],
      "source": [
        "# The probability that Red Bull Honda wins the Mexican Grand Prix, given that Red Bull Honda wins the US Grand Prix race\n",
        "# P(Win Mexico | Win US) = P(Win both) / P(Win US)\n",
        "redbull_wins_mgp_given_usgp = redbull_wins_both / redbull_wins_usgp\n",
        "redbull_wins_mgp_given_usgp"
      ]
    },
    {
      "cell_type": "code",
      "execution_count": 9,
      "id": "YzJXHMENR4Co",
      "metadata": {
        "colab": {
          "base_uri": "https://localhost:8080/"
        },
        "id": "YzJXHMENR4Co",
        "outputId": "7e322b75-cd94-443c-ad35-ac7db9095e58"
      },
      "outputs": [
        {
          "data": {
            "text/plain": [
              "0.13941884355738182"
            ]
          },
          "execution_count": 9,
          "metadata": {},
          "output_type": "execute_result"
        }
      ],
      "source": [
        "# The probability Red Bull Honda wins both races, if Red Bull Honda wins at least one of these two races\n",
        "# P(Win both | Win at least one) = P(Win both) / P(Win at least one)\n",
        "redbull_wins_both_given_atleast_one = redbull_wins_both / redbull_wins_atleast_one\n",
        "redbull_wins_both_given_atleast_one"
      ]
    },
    {
      "cell_type": "code",
      "execution_count": 10,
      "id": "8s7UhutfVLiT",
      "metadata": {
        "id": "8s7UhutfVLiT"
      },
      "outputs": [],
      "source": [
        "# Drivers\n",
        "mclaren = {'LN', 'OP'}\n",
        "ferrari = {'CL', 'CS'}\n",
        "alpine = {'EO', 'PG'}\n",
        "\n",
        "# Teams\n",
        "teams = {\n",
        "    'McLaren-Mercedes': mclaren,\n",
        "    'Ferrari': ferrari,\n",
        "    'Alpine-Renault': alpine\n",
        "}"
      ]
    },
    {
      "cell_type": "code",
      "execution_count": 11,
      "id": "a8BPlE_ey5qv",
      "metadata": {
        "id": "a8BPlE_ey5qv"
      },
      "outputs": [],
      "source": [
        "def team_probability(team_drivers):\n",
        "    \"\"\"Calculate probability of team winning\"\"\"\n",
        "    return sum(p(driver, USGP) for driver in team_drivers) #assuming team wins if any one driver wins\n",
        "\n",
        "def team_wins_mgp(team_drivers):\n",
        "    \"\"\"P(Win Mexico | Win US) = P(Win both) / P(Win US)\"\"\"\n",
        "\n",
        "    p_win_us = team_probability(team_drivers)\n",
        "    p_win_both = p_win_us**2\n",
        "    return p_win_both / p_win_us if p_win_us > 0 else 0\n",
        "\n",
        "def teams_both_given_atleast_one(team_drivers):\n",
        "    \"\"\"P(Win both | Win at least one) = P(Win both) / P(Win at least one)\"\"\"\n",
        "\n",
        "    p_win_us = team_probability(team_drivers)\n",
        "    p_win_both = p_win_us**2\n",
        "\n",
        "    # P(Win at least one) = 1 - P(Win neither)\n",
        "    p_no_win_one_race = 1 - team_probability(team_drivers)\n",
        "    p_win_neither = p_no_win_one_race ** 2\n",
        "    p_win_atleast_one = 1 - p_win_neither\n",
        "\n",
        "    return p_win_both / p_win_atleast_one if p_win_atleast_one > 0 else 0"
      ]
    },
    {
      "cell_type": "code",
      "execution_count": 12,
      "id": "iyTQz0KIlBUr",
      "metadata": {
        "colab": {
          "base_uri": "https://localhost:8080/"
        },
        "id": "iyTQz0KIlBUr",
        "outputId": "0a4c541e-b64d-4f62-ae2c-f349cedee91a"
      },
      "outputs": [
        {
          "name": "stdout",
          "output_type": "stream",
          "text": [
            "\n",
            "P(Win Mexico | Win US):\n",
            "McLaren-Mercedes: 0.26584234930448225\n",
            "Ferrari: 0.2241112828438949\n",
            "Alpine-Renault: 0.006697578567748583\n"
          ]
        }
      ],
      "source": [
        "print(\"\\nP(Win Mexico | Win US):\")\n",
        "for team_name, team_drivers in teams.items():\n",
        "    prob = team_wins_mgp(team_drivers)\n",
        "    print(f\"{team_name}: {prob}\")"
      ]
    },
    {
      "cell_type": "code",
      "execution_count": 13,
      "id": "BpOKf9Tk74DD",
      "metadata": {
        "colab": {
          "base_uri": "https://localhost:8080/"
        },
        "id": "BpOKf9Tk74DD",
        "outputId": "d7132acf-8e65-434a-8883-d53463c5fb09"
      },
      "outputs": [
        {
          "name": "stdout",
          "output_type": "stream",
          "text": [
            "\n",
            "P(Win both | Win at least one):\n",
            "McLaren-Mercedes: 0.15329768270944744\n",
            "Ferrari: 0.12619669277632722\n",
            "Alpine-Renault: 0.0033600413543551345\n"
          ]
        }
      ],
      "source": [
        "print(\"\\nP(Win both | Win at least one):\")\n",
        "for team_name, team_drivers in teams.items():\n",
        "    prob = teams_both_given_atleast_one(team_drivers)\n",
        "    print(f\"{team_name}: {prob}\")"
      ]
    },
    {
      "cell_type": "markdown",
      "id": "MsynMtBc9yz-",
      "metadata": {
        "id": "MsynMtBc9yz-"
      },
      "source": [
        "**Question 3** McLaren-Mercedes wins one of these two races on a sunny day. What is the probability McLaren-Mercedes wins both races, assuming races can be held on either rainy, sunny, cloudy, snowy or foggy days, that these are the only possible weather conditions and that there is an equal probability for each one? Assume the same Driver standings for the US and Mexico Grand Prix."
      ]
    },
    {
      "cell_type": "code",
      "execution_count": 14,
      "id": "b3gVKzkoW_tU",
      "metadata": {
        "colab": {
          "base_uri": "https://localhost:8080/"
        },
        "id": "b3gVKzkoW_tU",
        "outputId": "08a05a6a-437f-4778-a7db-90fd0d40c840"
      },
      "outputs": [
        {
          "data": {
            "text/plain": [
              "0.30690706890470365"
            ]
          },
          "execution_count": 14,
          "metadata": {},
          "output_type": "execute_result"
        }
      ],
      "source": [
        "prob_weather = 1/5\n",
        "p_ln = p('LN',USGP)\n",
        "p_op = p('OP',USGP)\n",
        "mcm_wins_one_race_sunny = ((p_ln * (1 - p_ln)) + (p_op * (1 - p_op)) ) * prob_weather\n",
        "\n",
        "mcm_wins_both_sunny = ((p('LN',USGP) + p('OP',USGP))**2)\n",
        "\n",
        "mcm_wins_both_weather_given_wins_one_sunny = mcm_wins_both_sunny*prob_weather/mcm_wins_one_race_sunny\n",
        "mcm_wins_both_weather_given_wins_one_sunny"
      ]
    },
    {
      "cell_type": "markdown",
      "id": "TtlT3h3W9y3Y",
      "metadata": {
        "id": "TtlT3h3W9y3Y"
      },
      "source": [
        "**Question 4** (20 points) Red Bull Honda wins one of these two races on a rainy day. What is the probability Red Bull Honda wins both races, assuming races can be held on either rainy, sunny, cloudy, snowy or foggy days, and that in Austin, Texas it's cloudy twice as much as it is sunny, sunny twice as much as it is rainy and four times as much as it is foggy, and foggy just as often as it is snows. While in Mexico City it's sunny twice as much as it is cloudy, cloudy just as much as it rains, and it never fogs or snows. Assume the same Driver standings for the US and Mexico Grand Prix."
      ]
    },
    {
      "cell_type": "markdown",
      "id": "30zktSJX8d7_",
      "metadata": {
        "id": "30zktSJX8d7_"
      },
      "source": [
        "Step 1: Determine the Weather Distribution for Austin\n",
        "Weather Conditions:\n",
        "\n",
        "\n",
        "* Cloudy (C)\n",
        "* Sunny (S)\n",
        "* Rainy (R)\n",
        "* Snowy (SN)\n",
        "* Foggy (F)\n",
        "\n",
        "Relationships Given:\n",
        "\n",
        "Cloudy occurs twice as much as Sunny:\n",
        "C=2S\n",
        "\n",
        "Sunny occurs twice as much as Rainy:\n",
        "S=2R\n",
        "\n",
        "Sunny occurs four times as much as Foggy:\n",
        "𝑆=4𝐹\n",
        "\n",
        "Foggy occurs as much as Snowy:\n",
        "F=SN\n",
        "\n",
        "From these relationships, we can express all conditions in terms of the Rainy condition (R):\n",
        "\n",
        "S=2R\n",
        "\n",
        "C=2S=4R\n",
        "\n",
        "F= S/4=2R/4=R/2\n",
        "\n",
        "SN= F = R/2\n",
        "\n",
        "Now let's define the probabilities:\n",
        "\n",
        "Let\n",
        "R=x, then:\n",
        "\n",
        "Sunny (S) = 2x\n",
        "\n",
        "Cloudy (C) = 4x\n",
        "\n",
        "Rainy= x\n",
        "\n",
        "Foggy= x/2\n",
        "\n",
        "Snowy= x/2\n",
        "\n",
        "Total Probability in Austin:\n",
        "Total=R+S+C+SN+F = 8x\n",
        "\n",
        "Probability Distribution for Austin\n",
        "\n",
        "p(R) = x/8x=1/8\n",
        "\n",
        "p(S) = 2x/8x=1/4\n",
        "\n",
        "p(C)=4x/8x= 1/2\n",
        "\n",
        "p(SN)= (x/2)/8x=1/16\n",
        "\n",
        "p(F)=(x/2)/8x=1/16\n",
        "\n",
        "Step 2: Determine the Weather Distribution for Mexico City\n",
        "Weather Conditions:\n",
        "\n",
        "Cloudy (C)\n",
        "Sunny (S)\n",
        "Rainy (R)\n",
        "Relationships Given:\n",
        "\n",
        "Sunny occurs twice as much as Cloudy:\n",
        "S=2C\n",
        "\n",
        "Cloudy occurs as much as Rainy:\n",
        "C=R\n",
        "\n",
        "It never fogs or snows.\n",
        "From these relationships, we can express all conditions in terms of the Rainy condition (R):\n",
        "\n",
        "C=R\n",
        "S=2R\n",
        "\n",
        "Total Probability in Mexico City:\n",
        "\n",
        "Total=R+S+C=R+2R+R=4R\n",
        "\n",
        "Probability Distribution for Mexico City\n",
        "Calculating the probabilities:\n",
        "\n",
        "p(R) = R/4R = 1/4\n",
        "\n",
        "p(C) = R/4R = 1/4\n",
        "\n",
        "p(S) = 2R/4R = 1/2\n",
        "\n"
      ]
    },
    {
      "cell_type": "code",
      "execution_count": 15,
      "id": "bksOohyD-r4P",
      "metadata": {
        "colab": {
          "base_uri": "https://localhost:8080/"
        },
        "id": "bksOohyD-r4P",
        "outputId": "2ccc25e9-459c-46bb-cfa0-dd8d58c6cae9"
      },
      "outputs": [
        {
          "data": {
            "text/plain": [
              "0.013715277339187567"
            ]
          },
          "execution_count": 15,
          "metadata": {},
          "output_type": "execute_result"
        }
      ],
      "source": [
        "# Calculate total points for all drivers\n",
        "total_points = sum(USGP.values())\n",
        "\n",
        "# Calculate individual probabilities for Red Bull drivers\n",
        "prob_MV = p('MV',USGP)\n",
        "prob_SP = p('SP',USGP)\n",
        "\n",
        "# Calculate the weather probabilities\n",
        "prob_rainy_Austin = 1 / 8\n",
        "prob_rainy_Mexico = 1 / 4\n",
        "\n",
        "# Calculate the total probability of Red Bull Honda winning both races\n",
        "\n",
        "redbull_wins_one_rainy_austin = ((prob_MV * (1 - prob_MV)) + (prob_SP * (1 - prob_SP) ))* prob_rainy_Austin\n",
        "\n",
        "# For Mexico\n",
        "redbull_wins_one_rainy_mexico = ((prob_MV * (1 - prob_MV)) + (prob_SP * (1 - prob_SP) )) * prob_rainy_Mexico\n",
        "# Combine the probabilities for exactly one win in either race\n",
        "redbull_wins_one_rainy = redbull_wins_one_rainy_austin + redbull_wins_one_rainy_mexico\n",
        "\n",
        "prob_MV_win_Austin = prob_MV * prob_rainy_Austin\n",
        "prob_SP_win_Austin = prob_SP * prob_rainy_Austin\n",
        "\n",
        "# For Mexico\n",
        "prob_MV_win_Mexico = prob_MV * prob_rainy_Mexico\n",
        "prob_SP_win_Mexico = prob_SP * prob_rainy_Mexico\n",
        "\n",
        "# Calculate the probability that Red Bull wins both races\n",
        "redbull_wins_both_rainy = (prob_MV_win_Austin * prob_MV_win_Mexico) + (prob_SP_win_Austin * prob_SP_win_Mexico)\n",
        "\n",
        "redbull_wins_both_weather_given_wins_one_rainy = redbull_wins_both_rainy/redbull_wins_one_rainy\n",
        "redbull_wins_both_weather_given_wins_one_rainy\n"
      ]
    },
    {
      "cell_type": "markdown",
      "id": "396td9DfGk7f",
      "metadata": {
        "id": "396td9DfGk7f"
      },
      "source": [
        "you need to provide both code, answer, with comments and markdown explanation for these five questions which listed in the notebook:"
      ]
    },
    {
      "cell_type": "markdown",
      "id": "FLPrh39W-ky8",
      "metadata": {
        "id": "FLPrh39W-ky8"
      },
      "source": [
        "**Question 5** (10 bonus points) What is the probability Max Verstappen wins the 2024 season? Do not assume the same standings anymore following each upcoming race: In Formula 1, the winner receives 25 points, the second-place finisher 18 points, with 15, 12, 10, 8, 6, 4, 2 and 1 points for positions 3 through 10, respectively."
      ]
    },
    {
      "cell_type": "code",
      "execution_count": 16,
      "id": "9gmo2Uou-rTn",
      "metadata": {
        "colab": {
          "base_uri": "https://localhost:8080/"
        },
        "id": "9gmo2Uou-rTn",
        "outputId": "8d5933f9-13aa-4593-e665-0e7888890676"
      },
      "outputs": [
        {
          "name": "stderr",
          "output_type": "stream",
          "text": [
            "100%|██████████| 100000/100000 [00:41<00:00, 2399.65it/s]"
          ]
        },
        {
          "name": "stdout",
          "output_type": "stream",
          "text": [
            "Probability Max Verstappen wins: 0.128030\n"
          ]
        },
        {
          "name": "stderr",
          "output_type": "stream",
          "text": [
            "\n"
          ]
        }
      ],
      "source": [
        "import random\n",
        "from collections import defaultdict\n",
        "from tqdm import tqdm\n",
        "\n",
        "# Points awarded for each position (1st to 10th)\n",
        "points_table = {1: 25, 2: 18, 3: 15, 4: 12, 5: 10, 6: 8, 7: 6, 8: 4, 9: 2, 10: 1}\n",
        "# List of drivers participating\n",
        "drivers = ['MV', 'SP', 'LN', 'OP', 'CL', 'GR', 'FA', 'NH']\n",
        "# Number of races in the season\n",
        "races = 20\n",
        "# Number of simulations (entire seasons) to run\n",
        "simulations = 100000\n",
        "\n",
        "def run_race():\n",
        "    \"\"\"\n",
        "    Simulate a single race by randomly shuffling the order of drivers.\n",
        "\n",
        "    :return: List of drivers in their finishing order\n",
        "    \"\"\"\n",
        "    return random.sample(drivers, len(drivers))\n",
        "\n",
        "def calculate_points(positions):\n",
        "    \"\"\"\n",
        "    Assign points to drivers based on their finishing positions in the race.\n",
        "\n",
        "    :param positions: List of drivers in the order they finished\n",
        "    :return: Dictionary mapping each driver to the points they earned\n",
        "    \"\"\"\n",
        "    points = defaultdict(int)\n",
        "    # Award points to the top 10 finishers\n",
        "    for i, driver in enumerate(positions[:10]):\n",
        "        points[driver] += points_table.get(i + 1, 0)\n",
        "    return points\n",
        "\n",
        "# Counter to track how many times Max Verstappen wins the season\n",
        "verstappen_wins = 0\n",
        "\n",
        "# Simulate multiple seasons\n",
        "for _ in tqdm(range(simulations)):\n",
        "    season_points = defaultdict(int)  # Track total points for each driver in the season\n",
        "\n",
        "    # Simulate each race in the season\n",
        "    for _ in range(races):\n",
        "        result = run_race()  # Get random finish order for a race\n",
        "        race_points = calculate_points(result)  # Calculate points for the race\n",
        "\n",
        "        # Add race points to total season points for each driver\n",
        "        for driver, pts in race_points.items():\n",
        "            season_points[driver] += pts\n",
        "\n",
        "    # Check if Max Verstappen has the highest points at the end of the season\n",
        "    if season_points['MV'] == max(season_points.values()):\n",
        "        verstappen_wins += 1\n",
        "\n",
        "# Calculate and display the probability that Max Verstappen wins the championship\n",
        "print(f\"Probability Max Verstappen wins: {verstappen_wins / simulations:.6f}\")"
      ]
    }
  ],
  "metadata": {
    "colab": {
      "provenance": []
    },
    "kernelspec": {
      "display_name": "Python 3",
      "language": "python",
      "name": "python3"
    },
    "language_info": {
      "codemirror_mode": {
        "name": "ipython",
        "version": 3
      },
      "file_extension": ".py",
      "mimetype": "text/x-python",
      "name": "python",
      "nbconvert_exporter": "python",
      "pygments_lexer": "ipython3",
      "version": "3.6.13"
    }
  },
  "nbformat": 4,
  "nbformat_minor": 5
}
