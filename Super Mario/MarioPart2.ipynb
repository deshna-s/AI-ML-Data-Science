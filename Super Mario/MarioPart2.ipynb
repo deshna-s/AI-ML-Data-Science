{
 "cells": [
  {
   "cell_type": "code",
   "execution_count": 23,
   "id": "d8b4f4b1-a6fb-4cd2-8470-6121cf54e50c",
   "metadata": {},
   "outputs": [
    {
     "name": "stdout",
     "output_type": "stream",
     "text": [
      "Break at avenue 2. n = 190, m = 992\n"
     ]
    }
   ],
   "source": [
    "import random\n",
    "\n",
    "# Initialize counters\n",
    "i, j = 0, 0\n",
    "\n",
    "# Define the maximum number of avenues (A) and the maximum number of streets (S)\n",
    "NUM_STREETS = 2023\n",
    "NUM_AVENUES = 2024\n",
    "total_no_pits = 2022\n",
    "\n",
    "def get_street_location(avenue):\n",
    "    \"\"\"Simulate the street location where Mario falls into the pit.\"\"\"\n",
    "    # For simplicity, we'll use a random street location between 1 and NUM_STREETS\n",
    "    return random.randint(1, NUM_STREETS)\n",
    "\n",
    "def simulate_mario_movement(avenue, street):\n",
    "    \"\"\"Simulate Mario's movement to the next avenue while avoiding pits.\"\"\"\n",
    "    # Mario can move to the next avenue and stay on the same street or move to adjacent streets\n",
    "    # Avoid pits in the first and last avenues\n",
    "    if avenue == 1 or avenue == NUM_AVENUES:\n",
    "        return street  # No pits in the first and last avenues\n",
    "    # Randomly choose to move to the next street or stay on the current street\n",
    "    next_street = street\n",
    "    move = random.choice([-1, 0, 1])\n",
    "    next_street = max(1, min(NUM_STREETS, street + move))\n",
    "    return next_street\n",
    "\n",
    "# Create a for loop starting from the second avenue\n",
    "for i in range(2, NUM_AVENUES):\n",
    "    # Simulate falling into the pit and determine the street location n\n",
    "    n = get_street_location(i)\n",
    "\n",
    "    # Set counter j to i + 1\n",
    "    j = i + 1\n",
    "\n",
    "    # Simulate falling into the pit in the next avenue and determine the street location m\n",
    "    m = get_street_location(j)\n",
    "\n",
    "    # Check if the absolute value of |n - m| is not equal to 1\n",
    "    if abs(n - m) != 1:\n",
    "        # If not equal to 1, go to step 11\n",
    "        print(f\"Break at avenue {i}. n = {n}, m = {m}\")\n",
    "        break\n",
    "    else:\n",
    "        # If |n - m| = 1, go to step 10\n",
    "        if n == 1 or n == NUM_STREETS:\n",
    "            # If n is 1 or NUM_STREETS, break the loop\n",
    "            print(f\"Break at avenue {i}. n = {n}, m = {m}\")\n",
    "            break\n",
    "\n",
    "    # Mario's next attempt\n",
    "    new_street = simulate_mario_movement(i, n)\n",
    "    print(f\"At avenue {i}, Mario moves to street {new_street}\")\n",
    "\n",
    "    # Death counter\n",
    "    death_counter = i\n",
    "    print(f\"Death counter at avenue {i}: {death_counter}\")"
   ]
  },
  {
   "cell_type": "code",
   "execution_count": null,
   "id": "ccf46159-d773-4cd5-82e7-63f0b5eb7d2d",
   "metadata": {},
   "outputs": [],
   "source": []
  }
 ],
 "metadata": {
  "kernelspec": {
   "display_name": "Python 3 (ipykernel)",
   "language": "python",
   "name": "python3"
  },
  "language_info": {
   "codemirror_mode": {
    "name": "ipython",
    "version": 3
   },
   "file_extension": ".py",
   "mimetype": "text/x-python",
   "name": "python",
   "nbconvert_exporter": "python",
   "pygments_lexer": "ipython3",
   "version": "3.12.4"
  }
 },
 "nbformat": 4,
 "nbformat_minor": 5
}
