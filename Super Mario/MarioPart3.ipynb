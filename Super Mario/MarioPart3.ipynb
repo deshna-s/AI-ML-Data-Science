{
 "cells": [
  {
   "cell_type": "markdown",
   "id": "58e55972",
   "metadata": {},
   "source": [
    "## Sexy Mario Code     By: Deshan Shah"
   ]
  },
  {
   "cell_type": "markdown",
   "id": "10bfc92e",
   "metadata": {},
   "source": [
    "## Pits Creation or New York City"
   ]
  },
  {
   "cell_type": "code",
   "execution_count": 44,
   "id": "2acb5d24",
   "metadata": {},
   "outputs": [],
   "source": [
    "import numpy as np\n",
    "import random\n",
    "\n",
    "def create_pits(nr, nc):\n",
    "    # Initialize an nr x nc grid filled with zeros\n",
    "    grid = np.zeros([nr, nc])\n",
    "    pits = [(r, r - 1) for r in range(1, nr - 1)]\n",
    "\n",
    "\n",
    "    # Randomly select one of the pits and move it to the last column\n",
    "    selected_pit = random.choice(pits)\n",
    "    pits.remove(selected_pit)\n",
    "    pits.append((selected_pit[0], nc - 1))\n",
    "              \n",
    "    # Mark the pits on the grid\n",
    "    for p in pits: grid[p[0], p[1]] = 1\n",
    "\n",
    "\n",
    "    return grid, pits"
   ]
  },
  {
   "cell_type": "markdown",
   "id": "1357b0e7",
   "metadata": {},
   "source": [
    "## Mario Movement "
   ]
  },
  {
   "cell_type": "code",
   "execution_count": 45,
   "id": "e666f653",
   "metadata": {},
   "outputs": [],
   "source": [
    "import random\n",
    "\n",
    "def mario_path(pits, nr, nc):\n",
    "    # Initialize Mario's position, step count, and death count\n",
    "    row, col, nsteps, deaths = 0, random.choice(range(nc)), 0, 0\n",
    "    steps, mario_memory = [], []                             # Track Mario's steps and memory of pits\n",
    "\n",
    "    while row < nr - 1:                                      # Loop until Mario reaches the last row\n",
    "        row_step = random.choice([0, 1])                     # Randomly choose between horizontal (0) or vertical (1) movement\n",
    "        if row_step == 0:                                    # If horizontal movement, then move left or right based on the position\n",
    "            col_step = random.choice([-1, 0, 1]) if 0 < col < nc - 1 else random.choice([1, 0]) if col == 0 else random.choice([0, -1])\n",
    "        if row_step == 0 and (row, col + col_step) in mario_memory:\n",
    "            continue                                         # Skip if the cell has already been visited\n",
    "        col += col_step if row_step == 0 else 0              # Update column for horizontal move\n",
    "        \n",
    "        if row_step == 1 and (row + row_step, col) in mario_memory:\n",
    "            continue                                         # Skip this iteration if Mario has already been to the cell\n",
    "        row += row_step                                      # Otherwise, move vertically (down)\n",
    "\n",
    "        \n",
    "        nsteps += 1                                          # Increment steps\n",
    "        steps.append((row, col))                             # Track Mario's position\n",
    "\n",
    "        if (row, col) in pits:                               # If Mario falls into a pit\n",
    "            deaths += 1\n",
    "            mario_memory.append((row, col))                  # Remember the pit to avoid it\n",
    "            steps.remove((row, col))                         # Remove the step as Mario \"dies\"\n",
    "            col -= col_step if row_step == 0 else 0          # Backtrack column if horizontal move\n",
    "            row -= row_step if row_step == 1 else 0          # Backtrack row if vertical move\n",
    "        else:\n",
    "            steps.append((row, col))                         # If no pit, confirm the step\n",
    "\n",
    "    return [deaths, nsteps]                                  # Return number of deaths, the path, and total steps"
   ]
  },
  {
   "cell_type": "markdown",
   "id": "0fb297db",
   "metadata": {},
   "source": [
    "## Average Death and Steps"
   ]
  },
  {
   "cell_type": "code",
   "execution_count": 47,
   "id": "dce5a9b1",
   "metadata": {},
   "outputs": [
    {
     "name": "stderr",
     "output_type": "stream",
     "text": [
      "100%|██████████| 10000/10000 [00:09<00:00, 1018.55it/s]"
     ]
    },
    {
     "name": "stdout",
     "output_type": "stream",
     "text": [
      "Average number of deaths: 30.2536,  Average number of steps: 308.1612\n"
     ]
    },
    {
     "name": "stderr",
     "output_type": "stream",
     "text": [
      "\n"
     ]
    }
   ],
   "source": [
    "from tqdm import tqdm  # tqdm is used to show progress bars for loops\n",
    "\n",
    "total_deaths = []                                  # List to store the results of each simulation (deaths and steps)\n",
    "nr, nc = 102, 101                                  # Grid dimensions: nr is the number of rows, nc is the number of columns\n",
    "\n",
    "# Run 10000 simulations and track deaths and steps\n",
    "for i in tqdm(range(10000)):                       # tqdm shows the progress of the loop in a visual bar\n",
    "    deaths = 0                                     # Initialize deaths for this simulation run\n",
    "    grid, pits = create_pits(nr, nc)               # Create the grid and place pits randomly\n",
    "    total_deaths.append(mario_path(pits, nr, nc))  # Simulate Mario's path and record the result\n",
    "\n",
    "# Initialize counters for total deaths and total steps\n",
    "death, steps = 0, 0\n",
    "\n",
    "# Loop through the results in total_deaths to accumulate total deaths and steps\n",
    "for i in total_deaths:\n",
    "    death += i[0]                                  # Add the number of deaths from the current simulation to the total death count\n",
    "    steps += i[1]                                  # Add the number of steps from the current simulation to the total step count\n",
    "\n",
    "# Calculate and print the average number of deaths and steps over 10000 runs\n",
    "print(f\"Average number of deaths: {death / 10000}, \",f\"Average number of steps: {steps / 10000}\")\n"
   ]
  },
  {
   "cell_type": "code",
   "execution_count": null,
   "id": "ad03c6d2",
   "metadata": {},
   "outputs": [],
   "source": []
  }
 ],
 "metadata": {
  "kernelspec": {
   "display_name": "Python 3 (ipykernel)",
   "language": "python",
   "name": "python3"
  },
  "language_info": {
   "codemirror_mode": {
    "name": "ipython",
    "version": 3
   },
   "file_extension": ".py",
   "mimetype": "text/x-python",
   "name": "python",
   "nbconvert_exporter": "python",
   "pygments_lexer": "ipython3",
   "version": "3.11.5"
  }
 },
 "nbformat": 4,
 "nbformat_minor": 5
}
