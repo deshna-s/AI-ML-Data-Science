{
 "cells": [
  {
   "cell_type": "markdown",
   "id": "95656137",
   "metadata": {},
   "source": [
    "## MovieAssignment Group 6  -By (Harsh, Yash, Kaushik, Deshna)"
   ]
  },
  {
   "cell_type": "markdown",
   "id": "aec3298d",
   "metadata": {},
   "source": [
    "## Sort_scene_images\n",
    " We are using this funtion for sorting the images in order so that the scene can take the images dynamically in order."
   ]
  },
  {
   "cell_type": "code",
   "execution_count": 1,
   "id": "f14ece3d-c786-42c2-a6b3-171d3b05ed1f",
   "metadata": {},
   "outputs": [],
   "source": [
    "from PIL import Image\n",
    "import os\n",
    "\n",
    "# Function for sorting given scene image files so that they display in comic book as intended\n",
    "def sort_scene_images(scene_dir):\n",
    "    return [f'{num}.jpeg' for num in sorted([int(img_str.split(\".\")[0]) for img_str in os.listdir(scene_dir) if img_str.split(\".\")[1]== \"jpeg\" or img_str.split(\".\")[1]== \"jpg\"])]"
   ]
  },
  {
   "cell_type": "markdown",
   "id": "af9d5dab",
   "metadata": {},
   "source": [
    "## Imgcompress_mem\n",
    "We are reading the image then resizing it and after calculating the new dimensions we are compressing it "
   ]
  },
  {
   "cell_type": "code",
   "execution_count": 2,
   "id": "df3887e3",
   "metadata": {},
   "outputs": [],
   "source": [
    "import cv2\n",
    "def imgcompress_mem(path_in, k):\n",
    "    img = cv2.imread(path_in, cv2.IMREAD_UNCHANGED)\n",
    "\n",
    "    # set the ratio of resized image\n",
    "    width = int((img.shape[1])/k)\n",
    "    height = int((img.shape[0])/k)\n",
    "\n",
    "    # resize the image by resize() function of openCV library\n",
    "    return cv2.resize(img, (width, height), interpolation=cv2.INTER_AREA)"
   ]
  },
  {
   "cell_type": "markdown",
   "id": "d60fbec5",
   "metadata": {},
   "source": [
    "## Cartoonizeble_mem\n",
    "After compressing the image we are adding blur and border to image so that the resulting image looks cartoonized "
   ]
  },
  {
   "cell_type": "code",
   "execution_count": 3,
   "id": "9e2f3abc",
   "metadata": {},
   "outputs": [],
   "source": [
    "# Controls blur amount and line size\n",
    "def cartoonizebl_mem(path_in, k, blur, line):\n",
    "    \n",
    "    imgc = imgcompress_mem(path_in, k)\n",
    "    #imgc_pil = cv2.cvtColor(imgc, cv2.COLOR_BGR2RGB) # Converting BGR to RGB\n",
    "    #display(Image.fromarray(imgc_pil))\n",
    "\n",
    "    line_size = line\n",
    "    blur_value = blur\n",
    "    #imgc = cv2.imread(path_out, cv2.IMREAD_UNCHANGED)\n",
    "    gray = cv2.cvtColor(imgc, cv2.COLOR_BGR2GRAY)\n",
    "    gray_blur = cv2.medianBlur(gray, blur_value)\n",
    "    bigedges = cv2.adaptiveThreshold(gray_blur, 255, cv2.ADAPTIVE_THRESH_MEAN_C, cv2.THRESH_BINARY, line_size, blur_value)\n",
    "    bigedges_pil = cv2.cvtColor(bigedges, cv2.COLOR_BGR2RGB) # Converting BGR to RGB\n",
    "    #display(Image.fromarray(bigedges_pil))\n",
    "\n",
    "    return cv2.bitwise_and(imgc, imgc, mask=bigedges)"
   ]
  },
  {
   "cell_type": "markdown",
   "id": "ada4f4cf",
   "metadata": {},
   "source": [
    "## Translation Library\n",
    "We are using deep_translator to translate the code into different languages."
   ]
  },
  {
   "cell_type": "code",
   "execution_count": 4,
   "id": "b4f64efd",
   "metadata": {},
   "outputs": [
    {
     "name": "stdout",
     "output_type": "stream",
     "text": [
      "Requirement already satisfied: deep_translator in c:\\users\\harsh\\anaconda3\\lib\\site-packages (1.11.4)\n",
      "Requirement already satisfied: beautifulsoup4<5.0.0,>=4.9.1 in c:\\users\\harsh\\anaconda3\\lib\\site-packages (from deep_translator) (4.12.2)\n",
      "Requirement already satisfied: requests<3.0.0,>=2.23.0 in c:\\users\\harsh\\anaconda3\\lib\\site-packages (from deep_translator) (2.31.0)\n",
      "Requirement already satisfied: soupsieve>1.2 in c:\\users\\harsh\\anaconda3\\lib\\site-packages (from beautifulsoup4<5.0.0,>=4.9.1->deep_translator) (2.4)\n",
      "Requirement already satisfied: charset-normalizer<4,>=2 in c:\\users\\harsh\\anaconda3\\lib\\site-packages (from requests<3.0.0,>=2.23.0->deep_translator) (2.0.4)\n",
      "Requirement already satisfied: idna<4,>=2.5 in c:\\users\\harsh\\anaconda3\\lib\\site-packages (from requests<3.0.0,>=2.23.0->deep_translator) (2.10)\n",
      "Requirement already satisfied: urllib3<3,>=1.21.1 in c:\\users\\harsh\\anaconda3\\lib\\site-packages (from requests<3.0.0,>=2.23.0->deep_translator) (1.26.16)\n",
      "Requirement already satisfied: certifi>=2017.4.17 in c:\\users\\harsh\\anaconda3\\lib\\site-packages (from requests<3.0.0,>=2.23.0->deep_translator) (2024.7.4)\n",
      "Note: you may need to restart the kernel to use updated packages.\n"
     ]
    }
   ],
   "source": [
    "pip install deep_translator"
   ]
  },
  {
   "cell_type": "markdown",
   "id": "6cd16d33",
   "metadata": {},
   "source": [
    "## Translate_text\n",
    "This function uses the deep_translator library to translate input text line by line into either Hindi or Traditional Chinese, based on the selected language. It splits the text into lines, translates each line, and then joins the translated lines into a single string."
   ]
  },
  {
   "cell_type": "code",
   "execution_count": 5,
   "id": "f8a3132b",
   "metadata": {},
   "outputs": [],
   "source": [
    "from deep_translator import GoogleTranslator\n",
    "\n",
    "def translate_text(text, language):\n",
    "    # Check which language the user wants to translate to and set the target language code\n",
    "    if language == \"hindi\":\n",
    "        target = \"hi\"  # Hindi language code\n",
    "    elif language == \"chinese\":\n",
    "        target = \"zh-TW\"  # Traditional Chinese language code\n",
    "    \n",
    "    # Split the input text by new lines\n",
    "    lines = text.split('\\n')\n",
    "\n",
    "    # Initialize the translator with the source language set to auto-detect and the target language\n",
    "    translator = GoogleTranslator(source='auto', target=target)\n",
    "    \n",
    "    # Translate each line and store the results in a list\n",
    "    translated_lines = [translator.translate(line) for line in lines]\n",
    "    \n",
    "    # Join the translated lines back into a single string with new lines and return it\n",
    "    return '\\n'.join(translated_lines)"
   ]
  },
  {
   "cell_type": "markdown",
   "id": "e97dbd8d",
   "metadata": {},
   "source": [
    "## add_dialogue_and_cartoonise\n",
    "This function takes an image, applies a cartoon effect, adds a border, and overlays translated dialogue based on the selected language (Hindi, Chinese, or English). It creates a text box for the dialogue with semi-transparency and ensures the text is displayed in the appropriate font. Finally, the image is saved in a language-specific folder, creating the directory if it doesn't already exist."
   ]
  },
  {
   "cell_type": "code",
   "execution_count": 6,
   "id": "79baada0-c278-4559-a5c4-ccd2b688664b",
   "metadata": {},
   "outputs": [],
   "source": [
    "from PIL import ImageOps, ImageDraw, ImageFont \n",
    "\n",
    "# Function that adds dialogue and cartoonizes an image\n",
    "def add_dialogue_and_cartoonise(scene_dir, image, dialogue, language):\n",
    "\n",
    "    # Call cartoonizebl_mem function to cartoonize the image and convert it to PIL format\n",
    "    cblimg = cartoonizebl_mem(f'{scene_dir}/{image}', 9, 11, 13)\n",
    "    cblimg_pil = cv2.cvtColor(cblimg, cv2.COLOR_BGR2RGB)\n",
    "\n",
    "    # Adding a border around the image\n",
    "    img_border = ImageOps.expand(Image.fromarray(cblimg_pil), border=(30, 30), fill=(0, 0, 0))\n",
    "\n",
    "    # Set dialogue overlay properties\n",
    "    TINT_COLOR = (0, 0, 0)  # Black overlay for dialogue box\n",
    "    TRANSPARENCY = .4  # 40% transparency\n",
    "    OPACITY = int(255 * TRANSPARENCY)  # Convert transparency to opacity\n",
    "\n",
    "    # Convert image to RGBA (with alpha channel) to handle transparency\n",
    "    img = img_border.convert('RGBA')\n",
    "\n",
    "    # Create an overlay for the text box\n",
    "    overlay = Image.new('RGBA', img.size, TINT_COLOR+(0,))\n",
    "    draw = ImageDraw.Draw(overlay)\n",
    "\n",
    "    # Set font based on the selected language\n",
    "    if language == \"hindi\":\n",
    "        font = ImageFont.truetype(\"TiroDevanagariHindi-Regular.ttf\", 30)\n",
    "    elif language == \"chinese\":\n",
    "        font = ImageFont.truetype(\"NotoSansTC-Bold.ttf\", 30)\n",
    "    else:\n",
    "        font = ImageFont.truetype(\"Ubuntu-Bold.ttf\", 30)\n",
    "\n",
    "    # Calculate text dimensions for placement\n",
    "    text = dialogue\n",
    "    left, top, right, bottom = font.getbbox(text)\n",
    "    w = right - left\n",
    "    h = bottom - top\n",
    "\n",
    "    # Replace newline character for multi-line text\n",
    "    text = text.replace('\\\\n', \"\\n\")\n",
    "\n",
    "    # Draw a rectangle for each line of text\n",
    "    for index in range(len(text.split(\"\\n\")), 0, -1):\n",
    "        x, y = 30, img.height - index*h - 40\n",
    "        draw.rectangle((x, y, x + img.width - 60, y + index*h + 10), fill=TINT_COLOR+(OPACITY,))\n",
    "\n",
    "    # Translate the text if the language is Hindi or Chinese\n",
    "    if language == \"hindi\":\n",
    "        text = translate_text(text, language)\n",
    "    elif language == \"chinese\":\n",
    "        text = translate_text(text, language)\n",
    "\n",
    "    # Draw the translated text on the image\n",
    "    draw.text((30, img.height - len(text.split(\"\\n\"))*h - 40), text, fill=(209, 239, 8), font=font)\n",
    "\n",
    "    # Combine the image and the overlay\n",
    "    img = Image.alpha_composite(img, overlay)\n",
    "    img = img.convert(\"RGB\")  # Convert to RGB to save as JPG\n",
    "\n",
    "    # Save the image in the correct directory based on the language\n",
    "    try:\n",
    "        if language == \"hindi\":\n",
    "            img.save(f'{scene_dir}ModifiedWithDialogueHindi/{image}')\n",
    "        elif language == \"chinese\":\n",
    "            img.save(f'{scene_dir}ModifiedWithDialogueChinese/{image}')\n",
    "        else:\n",
    "            img.save(f'{scene_dir}ModifiedWithDialogue/{image}')\n",
    "    except FileNotFoundError:\n",
    "        # If the directory doesn't exist, create it and save the image\n",
    "        if language == \"hindi\":\n",
    "            os.mkdir(f'{scene_dir}ModifiedWithDialogueHindi')\n",
    "            img.save(f'{scene_dir}ModifiedWithDialogueHindi/{image}')\n",
    "        elif language == \"chinese\":\n",
    "            os.mkdir(f'{scene_dir}ModifiedWithDialogueChinese')\n",
    "            img.save(f'{scene_dir}ModifiedWithDialogueChinese/{image}')\n",
    "        else:\n",
    "            os.mkdir(f'{scene_dir}ModifiedWithDialogue')\n",
    "            img.save(f'{scene_dir}ModifiedWithDialogue/{image}')"
   ]
  },
  {
   "cell_type": "markdown",
   "id": "41ca38c9",
   "metadata": {},
   "source": [
    "## scene_to_img\n",
    "This function processes scene images by adding cartoon effects and dialogue in the specified language, then combines the images into a single page by stacking them horizontally and vertically. The images are resized to maintain consistent dimensions, and the final combined image is saved in a language-specific folder. If the folder doesn't exist, it's created before saving."
   ]
  },
  {
   "cell_type": "code",
   "execution_count": 7,
   "id": "8cfe2ebb-4882-404d-9065-bd8d90d11631",
   "metadata": {},
   "outputs": [],
   "source": [
    "import numpy as np\n",
    "import pandas as pd\n",
    "\n",
    "# Function that combines multiple images of a scene into one single page image\n",
    "def scene_to_img(scene_dir, cols, language=\"english\"):\n",
    "    \n",
    "    # Sort the images in the scene directory\n",
    "    scene = sort_scene_images(scene_dir)\n",
    "    \n",
    "    # Load the dialogue data from a CSV file\n",
    "    data = pd.read_csv(f'{scene_dir}/dialogues.csv', names=[\"English\"], encoding='cp1252')\n",
    "    \n",
    "    # Add dialogue to each image and apply cartoonization\n",
    "    for index, img in enumerate(scene):\n",
    "        add_dialogue_and_cartoonise(scene_dir, img, data.values[index][0], language)\n",
    "    \n",
    "    # Open images after processing, depending on the language specified\n",
    "    if language == \"hindi\":\n",
    "        imgs = [Image.open(f'{scene_dir}ModifiedWithDialogueHindi/{img}') for img in sort_scene_images(f'{scene_dir}ModifiedWithDialogueHindi')]\n",
    "    elif language == \"chinese\":\n",
    "        imgs = [Image.open(f'{scene_dir}ModifiedWithDialogueChinese/{img}') for img in sort_scene_images(f'{scene_dir}ModifiedWithDialogueChinese')]\n",
    "    else:\n",
    "        imgs = [Image.open(f'{scene_dir}ModifiedWithDialogue/{img}') for img in sort_scene_images(f'{scene_dir}ModifiedWithDialogue')]\n",
    "\n",
    "    # Group images into rows of 'cols' columns\n",
    "    horizontal_image_rows = [imgs[i:i + cols] for i in range(0, len(imgs), cols)]\n",
    "    vertical_image_cols = []\n",
    "\n",
    "    # Resize images in each row to have the same height and combine them horizontally\n",
    "    for imgs_row in horizontal_image_rows:\n",
    "        min_shape = sorted([(np.sum(i.size), i.size ) for i in imgs_row])[0][1]  # Get the smallest image size\n",
    "        resized_horizontal = [np.asarray( i.resize(min_shape) ) for i in imgs_row]  # Resize all images to the smallest size\n",
    "        imgs_comb_horizontally = np.hstack(resized_horizontal)  # Stack images horizontally\n",
    "        vertical_image_cols.append(Image.fromarray(imgs_comb_horizontally))  # Append the combined horizontal row to a list\n",
    "    \n",
    "    # Resize all combined horizontal rows to the same width and stack them vertically\n",
    "    min_shape = sorted( [(np.sum(i.size), i.size ) for i in vertical_image_cols])[0][1]  # Get the smallest height\n",
    "    resized_vertical = [np.asarray( i.resize(min_shape) ) for i in vertical_image_cols]  # Resize all columns to the smallest height\n",
    "    imgs_comb_vertically = np.vstack(resized_vertical)  # Stack all rows vertically\n",
    "\n",
    "    # Convert the final image from a numpy array to a PIL Image object\n",
    "    imgs_comb = Image.fromarray(imgs_comb_vertically)\n",
    "    \n",
    "    # Resize the final image to 1/8th of its original size\n",
    "    imgs_comb.resize((imgs_comb.width//8, imgs_comb.height//8))\n",
    "\n",
    "    # Save the final image in the appropriate directory, creating the directory if it doesn't exist\n",
    "    try:\n",
    "        if language == \"hindi\":\n",
    "            imgs_comb.save(f'MoviePagesHindi/{scene_dir}.jpg')\n",
    "        elif language == \"chinese\":\n",
    "            imgs_comb.save(f'MoviePagesChinese/{scene_dir}.jpg')\n",
    "        else:\n",
    "            imgs_comb.save(f'MoviePages/{scene_dir}.jpg')\n",
    "    except FileNotFoundError:\n",
    "        # If the folder doesn't exist, create it and then save the image\n",
    "        if language == \"hindi\":\n",
    "            os.mkdir('MoviePagesHindi')\n",
    "            imgs_comb.save(f'MoviePagesHindi/{scene_dir}.jpg')\n",
    "        elif language == \"chinese\":\n",
    "            os.mkdir('MoviePagesChinese')\n",
    "            imgs_comb.save(f'MoviePagesChinese/{scene_dir}.jpg')\n",
    "        else:\n",
    "            os.mkdir('MoviePages')\n",
    "            imgs_comb.save(f'MoviePages/{scene_dir}.jpg')\n"
   ]
  },
  {
   "cell_type": "code",
   "execution_count": 8,
   "id": "7a3b2e34",
   "metadata": {},
   "outputs": [],
   "source": [
    "# Passing all the scenes to create pages for each scenes\n",
    "scene_to_img(\"Scene1\", 3)\n",
    "scene_to_img(\"Scene2\", 3)\n",
    "scene_to_img(\"Scene3\", 3)\n",
    "scene_to_img(\"Scene4\", 3)\n",
    "scene_to_img(\"Scene5\", 3)\n",
    "scene_to_img(\"Scene6\", 3)"
   ]
  },
  {
   "cell_type": "markdown",
   "id": "a5cdc15c",
   "metadata": {},
   "source": [
    "## Generating PDF\n",
    "Adding all the generated pages of the scenes in a pdf."
   ]
  },
  {
   "cell_type": "code",
   "execution_count": 9,
   "id": "cfce8b72-6fe7-48a9-b5b8-6460f187b4bd",
   "metadata": {},
   "outputs": [
    {
     "name": "stdout",
     "output_type": "stream",
     "text": [
      "done! you should see moviebook.pdf file that is generated using this code.\n"
     ]
    }
   ],
   "source": [
    "from fpdf import FPDF\n",
    "\n",
    "# Set up the dimensions for the PDF pages (8.5 x 11 inches)\n",
    "width, height = 8.5, 11\n",
    "pdf = FPDF(unit = \"in\", format = [width, height])\n",
    "\n",
    "# List all images in the 'MoviePages' directory\n",
    "imagelist = os.listdir('MoviePages')\n",
    "\n",
    "# List of signatures to be added to each page\n",
    "ls = [\"Harsh\", \"Yash\", \"Deshna\", \"Kaushik\", \"Harsh and Yash\", \"Kaushik and Deshna\"]\n",
    "\n",
    "# Loop through each image in the image list and add it to a new PDF page\n",
    "for index, image in enumerate(imagelist):\n",
    "    pdf.add_page()  # Create a new page\n",
    "    # Place the image on the page with a slight margin at the bottom\n",
    "    pdf.image(f'MoviePages/{image}', 0, 0, width, height - 0.25)\n",
    "    \n",
    "    # Set font for the signature text (Arial, Bold, size 11)\n",
    "    pdf.set_font('Arial', 'B', 11)\n",
    "    \n",
    "    # Add a signature at the bottom of the page\n",
    "    pdf.text(6, 10.92, f\"Signed By {ls[index]}\")\n",
    "\n",
    "# Output the final PDF file\n",
    "pdf.output(\"moviebook.pdf\", \"F\")\n",
    "print(\"done! you should see moviebook.pdf file that is generated using this code.\")\n"
   ]
  },
  {
   "cell_type": "markdown",
   "id": "5542cb73",
   "metadata": {},
   "source": [
    "## For Hindi\n",
    "Translation in Hindi generally takes time. Please be patient!"
   ]
  },
  {
   "cell_type": "code",
   "execution_count": 10,
   "id": "ea7da6c4",
   "metadata": {},
   "outputs": [],
   "source": [
    "# Doing the same thing for translation in Hindi\n",
    "scene_to_img(\"Scene1\", 3, \"hindi\")\n",
    "scene_to_img(\"Scene2\", 3, \"hindi\")\n",
    "scene_to_img(\"Scene3\", 3, \"hindi\")\n",
    "scene_to_img(\"Scene4\", 3, \"hindi\")\n",
    "scene_to_img(\"Scene5\", 3, \"hindi\")\n",
    "scene_to_img(\"Scene6\", 3, \"hindi\")"
   ]
  },
  {
   "cell_type": "code",
   "execution_count": 11,
   "id": "5e049674",
   "metadata": {},
   "outputs": [
    {
     "name": "stdout",
     "output_type": "stream",
     "text": [
      "done! you should see moviebookHindi.pdf file that is generated using this code.\n"
     ]
    }
   ],
   "source": [
    "from fpdf import FPDF\n",
    "\n",
    "# Set the dimensions for the PDF pages (8.5 x 11 inches)\n",
    "width, height = 8.5, 11\n",
    "pdf = FPDF(unit = \"in\", format = [width, height])  # Initialize the PDF with the specified format\n",
    "\n",
    "# List all images in the 'MoviePagesHindi' directory\n",
    "imagelist = os.listdir('MoviePagesHindi')\n",
    "\n",
    "# List of names for signing each page of the PDF\n",
    "ls = [\"Harsh\", \"Yash\", \"Deshna\", \"Kaushik\", \"Harsh and Yash\", \"Kaushik and Deshna\"]\n",
    "\n",
    "# Loop through each image in the imagelist and add it to a new page in the PDF\n",
    "for index, image in enumerate(imagelist):\n",
    "    pdf.add_page()  # Add a new page to the PDF\n",
    "    \n",
    "    # Insert the image onto the PDF page, leaving a small margin at the bottom\n",
    "    pdf.image(f'MoviePagesHindi/{image}', 0, 0, width, height - 0.25)\n",
    "    \n",
    "    # Set the font for the signature text (Arial, Bold, size 11)\n",
    "    pdf.set_font('Arial', 'B', 11)\n",
    "    \n",
    "    # Add the signature at the bottom right of the page\n",
    "    pdf.text(6, 10.92, f\"Signed By {ls[index]}\")\n",
    "\n",
    "# Save the generated PDF as 'moviebookHindi.pdf'\n",
    "pdf.output(\"moviebookHindi.pdf\", \"F\")\n",
    "print(\"done! you should see moviebookHindi.pdf file that is generated using this code. Thank you for being patient. Enjoy the translation\")"
   ]
  },
  {
   "cell_type": "markdown",
   "id": "864c2828",
   "metadata": {},
   "source": [
    "## For Chinese\n",
    "Translation in Chinese takes more time. Please be more patient!"
   ]
  },
  {
   "cell_type": "code",
   "execution_count": 12,
   "id": "063be3cf",
   "metadata": {},
   "outputs": [],
   "source": [
    "# Doing the same thing for translation in Chinese\n",
    "scene_to_img(\"Scene1\", 3, \"chinese\")\n",
    "scene_to_img(\"Scene2\", 3, \"chinese\")\n",
    "scene_to_img(\"Scene3\", 3, \"chinese\")\n",
    "scene_to_img(\"Scene4\", 3, \"chinese\")\n",
    "scene_to_img(\"Scene5\", 3, \"chinese\")\n",
    "scene_to_img(\"Scene6\", 3, \"chinese\")"
   ]
  },
  {
   "cell_type": "code",
   "execution_count": 13,
   "id": "b0ff3da2",
   "metadata": {},
   "outputs": [
    {
     "name": "stdout",
     "output_type": "stream",
     "text": [
      "done! you should see moviebookChinese.pdf file that is generated using this code.\n"
     ]
    }
   ],
   "source": [
    "from fpdf import FPDF\n",
    "\n",
    "# Set up the dimensions for the PDF pages (8.5 x 11 inches)\n",
    "width, height = 8.5, 11\n",
    "pdf = FPDF(unit = \"in\", format = [width, height])  # Initialize the PDF with specified size\n",
    "\n",
    "# Get a list of all images in the 'MoviePagesChinese' directory\n",
    "imagelist = os.listdir('MoviePagesChinese')\n",
    "\n",
    "# List of names for signing each page of the PDF\n",
    "ls = [\"Harsh\", \"Yash\", \"Deshna\", \"Kaushik\", \"Harsh and Yash\", \"Kaushik and Deshna\"]\n",
    "\n",
    "# Loop through each image and add it to the PDF\n",
    "for index, image in enumerate(imagelist):\n",
    "    pdf.add_page()  # Add a new page to the PDF\n",
    "    \n",
    "    # Insert the image on the page, leaving a small margin at the bottom\n",
    "    pdf.image(f'MoviePagesChinese/{image}', 0, 0, width, height - 0.25)\n",
    "    \n",
    "    # Set the font for the signature (Arial, Bold, size 11)\n",
    "    pdf.set_font('Arial', 'B', 11)\n",
    "    \n",
    "    # Add a signature at the bottom right of the page\n",
    "    pdf.text(6, 10.92, f\"Signed By {ls[index]}\")\n",
    "\n",
    "# Save the final PDF file as 'moviebookChinese.pdf'\n",
    "pdf.output(\"moviebookChinese.pdf\", \"F\")\n",
    "print(\"done! you should see moviebookChinese.pdf file that is generated using this code. Thank you for being patient. Enjoy the translation\")"
   ]
  }
 ],
 "metadata": {
  "kernelspec": {
   "display_name": "Python 3 (ipykernel)",
   "language": "python",
   "name": "python3"
  },
  "language_info": {
   "codemirror_mode": {
    "name": "ipython",
    "version": 3
   },
   "file_extension": ".py",
   "mimetype": "text/x-python",
   "name": "python",
   "nbconvert_exporter": "python",
   "pygments_lexer": "ipython3",
   "version": "3.11.5"
  }
 },
 "nbformat": 4,
 "nbformat_minor": 5
}
